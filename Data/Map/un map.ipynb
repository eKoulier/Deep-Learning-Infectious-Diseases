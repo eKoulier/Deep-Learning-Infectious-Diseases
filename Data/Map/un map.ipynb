{
 "cells": [
  {
   "cell_type": "code",
   "execution_count": 1,
   "metadata": {
    "collapsed": true
   },
   "outputs": [],
   "source": [
    "import datetime\n",
    "import geopandas as gpd\n",
    "import numpy as np\n",
    "import pandas as pd\n",
    "import json\n",
    "import matplotlib.pyplot as plt\n",
    "import seaborn as sns\n",
    "import pickle\n",
    "import os\n",
    "\n",
    "cwd = os.getcwd()\n",
    "\n",
    "os.chdir(r'C:/Users/ekoulier/Desktop/Infectious Diseases/Data/Map')\n",
    "post_to_mun = pd.read_csv('Post_to_Mun.txt')\n",
    "mun_to_GGD = pd.read_csv('Mun_to_GGD.csv', sep=';')\n",
    "shp_Nether = gpd.read_file('GEO.Gemeente_2015.shp')\n",
    "os.chdir(cwd)\n"
   ]
  },
  {
   "cell_type": "code",
   "execution_count": null,
   "metadata": {},
   "outputs": [],
   "source": [
    "import sys\n",
    "sys.path.append(\"../../Central_Folder\")\n",
    "from Locations import monthly_transfrom, make_df_shapefile\n",
    "\n",
    "cwd = os.getcwd()\n",
    "\n",
    "os.chdir(r'C:\\Users\\ekoulier\\Desktop\\Infectious Diseases\\Data\\Kinkhoest_Data')\n",
    "data = pd.read_csv('df_ALL.csv')\n",
    "os.chdir(cwd)\n",
    "\n",
    "# Create the shape DataFrame to be used\n",
    "data = monthly_transfrom(data)\n",
    "data.first_method()\n",
    "data.find_mun()\n",
    "data = data.monthly_municipality()\n",
    "shp_data = make_df_shapefile(data)"
   ]
  },
  {
   "cell_type": "code",
   "execution_count": null,
   "metadata": {},
   "outputs": [],
   "source": [
    "'Nuenen' in data['Municipality']"
   ]
  },
  {
   "cell_type": "code",
   "execution_count": null,
   "metadata": {
    "collapsed": true
   },
   "outputs": [],
   "source": [
    "'Nuenen' in shp_data['Municipality']"
   ]
  },
  {
   "cell_type": "code",
   "execution_count": null,
   "metadata": {},
   "outputs": [],
   "source": [
    "data.head()"
   ]
  },
  {
   "cell_type": "code",
   "execution_count": 2,
   "metadata": {},
   "outputs": [
    {
     "data": {
      "text/html": [
       "<div>\n",
       "<style>\n",
       "    .dataframe thead tr:only-child th {\n",
       "        text-align: right;\n",
       "    }\n",
       "\n",
       "    .dataframe thead th {\n",
       "        text-align: left;\n",
       "    }\n",
       "\n",
       "    .dataframe tbody tr th {\n",
       "        vertical-align: top;\n",
       "    }\n",
       "</style>\n",
       "<table border=\"1\" class=\"dataframe\">\n",
       "  <thead>\n",
       "    <tr style=\"text-align: right;\">\n",
       "      <th></th>\n",
       "      <th>Age</th>\n",
       "      <th>GGD</th>\n",
       "      <th>Municipality</th>\n",
       "      <th>Date</th>\n",
       "      <th>Onset Date</th>\n",
       "      <th>PostCode</th>\n",
       "      <th>Sex</th>\n",
       "      <th>Year of Birth</th>\n",
       "    </tr>\n",
       "  </thead>\n",
       "  <tbody>\n",
       "    <tr>\n",
       "      <th>0</th>\n",
       "      <td>16</td>\n",
       "      <td>HVB</td>\n",
       "      <td>Boxmeer</td>\n",
       "      <td>2005-08-04</td>\n",
       "      <td>04-07-2005</td>\n",
       "      <td>5825.0</td>\n",
       "      <td>Man</td>\n",
       "      <td>1989-01-01</td>\n",
       "    </tr>\n",
       "    <tr>\n",
       "      <th>1</th>\n",
       "      <td>16</td>\n",
       "      <td>HVB</td>\n",
       "      <td>Boxmeer</td>\n",
       "      <td>2007-09-11</td>\n",
       "      <td>09-07-2007</td>\n",
       "      <td>5825.0</td>\n",
       "      <td>Vrouw</td>\n",
       "      <td>1991-01-01</td>\n",
       "    </tr>\n",
       "    <tr>\n",
       "      <th>2</th>\n",
       "      <td>15</td>\n",
       "      <td>HVB</td>\n",
       "      <td>Boxmeer</td>\n",
       "      <td>2008-02-26</td>\n",
       "      <td>22-01-2008</td>\n",
       "      <td>5825.0</td>\n",
       "      <td>Vrouw</td>\n",
       "      <td>1993-01-01</td>\n",
       "    </tr>\n",
       "    <tr>\n",
       "      <th>3</th>\n",
       "      <td>9</td>\n",
       "      <td>HVB</td>\n",
       "      <td>Boxmeer</td>\n",
       "      <td>2008-11-09</td>\n",
       "      <td>01-09-2008</td>\n",
       "      <td>5825.0</td>\n",
       "      <td>Man</td>\n",
       "      <td>1999-01-01</td>\n",
       "    </tr>\n",
       "    <tr>\n",
       "      <th>4</th>\n",
       "      <td>14</td>\n",
       "      <td>HVB</td>\n",
       "      <td>Boxmeer</td>\n",
       "      <td>2009-09-01</td>\n",
       "      <td>29-07-2009</td>\n",
       "      <td>5825.0</td>\n",
       "      <td>Vrouw</td>\n",
       "      <td>1995-01-01</td>\n",
       "    </tr>\n",
       "  </tbody>\n",
       "</table>\n",
       "</div>"
      ],
      "text/plain": [
       "  Age  GGD Municipality        Date  Onset Date  PostCode    Sex Year of Birth\n",
       "0  16  HVB      Boxmeer  2005-08-04  04-07-2005    5825.0    Man    1989-01-01\n",
       "1  16  HVB      Boxmeer  2007-09-11  09-07-2007    5825.0  Vrouw    1991-01-01\n",
       "2  15  HVB      Boxmeer  2008-02-26  22-01-2008    5825.0  Vrouw    1993-01-01\n",
       "3   9  HVB      Boxmeer  2008-11-09  01-09-2008    5825.0    Man    1999-01-01\n",
       "4  14  HVB      Boxmeer  2009-09-01  29-07-2009    5825.0  Vrouw    1995-01-01"
      ]
     },
     "execution_count": 2,
     "metadata": {},
     "output_type": "execute_result"
    }
   ],
   "source": [
    "import sys\n",
    "sys.path.append(\"../../Central_Folder\")\n",
    "from Locations import monthly_transfrom, make_df_shapefile\n",
    "\n",
    "cwd = os.getcwd()\n",
    "\n",
    "os.chdir(r'C:\\Users\\ekoulier\\Desktop\\Infectious Diseases\\Data\\Kinkhoest_Data')\n",
    "data = pd.read_csv('df_ALL.csv')\n",
    "os.chdir(cwd)\n",
    "\n",
    "# Create the shape DataFrame to be used\n",
    "data = monthly_transfrom(data)\n",
    "data.df.head()"
   ]
  },
  {
   "cell_type": "code",
   "execution_count": 3,
   "metadata": {},
   "outputs": [
    {
     "data": {
      "text/html": [
       "<div>\n",
       "<style>\n",
       "    .dataframe thead tr:only-child th {\n",
       "        text-align: right;\n",
       "    }\n",
       "\n",
       "    .dataframe thead th {\n",
       "        text-align: left;\n",
       "    }\n",
       "\n",
       "    .dataframe tbody tr th {\n",
       "        vertical-align: top;\n",
       "    }\n",
       "</style>\n",
       "<table border=\"1\" class=\"dataframe\">\n",
       "  <thead>\n",
       "    <tr style=\"text-align: right;\">\n",
       "      <th></th>\n",
       "      <th>Age</th>\n",
       "      <th>GGD</th>\n",
       "      <th>Municipality</th>\n",
       "      <th>Date</th>\n",
       "      <th>Onset Date</th>\n",
       "      <th>PostCode</th>\n",
       "      <th>Sex</th>\n",
       "      <th>Year of Birth</th>\n",
       "      <th>Count</th>\n",
       "    </tr>\n",
       "  </thead>\n",
       "  <tbody>\n",
       "    <tr>\n",
       "      <th>0</th>\n",
       "      <td>16</td>\n",
       "      <td>HVB</td>\n",
       "      <td>Boxmeer</td>\n",
       "      <td>2005-08</td>\n",
       "      <td>04-07-2005</td>\n",
       "      <td>5825.0</td>\n",
       "      <td>Man</td>\n",
       "      <td>1989-01-01</td>\n",
       "      <td>1</td>\n",
       "    </tr>\n",
       "    <tr>\n",
       "      <th>1</th>\n",
       "      <td>16</td>\n",
       "      <td>HVB</td>\n",
       "      <td>Boxmeer</td>\n",
       "      <td>2007-09</td>\n",
       "      <td>09-07-2007</td>\n",
       "      <td>5825.0</td>\n",
       "      <td>Vrouw</td>\n",
       "      <td>1991-01-01</td>\n",
       "      <td>1</td>\n",
       "    </tr>\n",
       "    <tr>\n",
       "      <th>2</th>\n",
       "      <td>15</td>\n",
       "      <td>HVB</td>\n",
       "      <td>Boxmeer</td>\n",
       "      <td>2008-02</td>\n",
       "      <td>22-01-2008</td>\n",
       "      <td>5825.0</td>\n",
       "      <td>Vrouw</td>\n",
       "      <td>1993-01-01</td>\n",
       "      <td>1</td>\n",
       "    </tr>\n",
       "    <tr>\n",
       "      <th>3</th>\n",
       "      <td>9</td>\n",
       "      <td>HVB</td>\n",
       "      <td>Boxmeer</td>\n",
       "      <td>2008-11</td>\n",
       "      <td>01-09-2008</td>\n",
       "      <td>5825.0</td>\n",
       "      <td>Man</td>\n",
       "      <td>1999-01-01</td>\n",
       "      <td>1</td>\n",
       "    </tr>\n",
       "    <tr>\n",
       "      <th>4</th>\n",
       "      <td>14</td>\n",
       "      <td>HVB</td>\n",
       "      <td>Boxmeer</td>\n",
       "      <td>2009-09</td>\n",
       "      <td>29-07-2009</td>\n",
       "      <td>5825.0</td>\n",
       "      <td>Vrouw</td>\n",
       "      <td>1995-01-01</td>\n",
       "      <td>1</td>\n",
       "    </tr>\n",
       "  </tbody>\n",
       "</table>\n",
       "</div>"
      ],
      "text/plain": [
       "  Age  GGD Municipality    Date  Onset Date  PostCode    Sex Year of Birth  \\\n",
       "0  16  HVB      Boxmeer 2005-08  04-07-2005    5825.0    Man    1989-01-01   \n",
       "1  16  HVB      Boxmeer 2007-09  09-07-2007    5825.0  Vrouw    1991-01-01   \n",
       "2  15  HVB      Boxmeer 2008-02  22-01-2008    5825.0  Vrouw    1993-01-01   \n",
       "3   9  HVB      Boxmeer 2008-11  01-09-2008    5825.0    Man    1999-01-01   \n",
       "4  14  HVB      Boxmeer 2009-09  29-07-2009    5825.0  Vrouw    1995-01-01   \n",
       "\n",
       "   Count  \n",
       "0      1  \n",
       "1      1  \n",
       "2      1  \n",
       "3      1  \n",
       "4      1  "
      ]
     },
     "execution_count": 3,
     "metadata": {},
     "output_type": "execute_result"
    }
   ],
   "source": [
    "data.first_method()\n",
    "data.df.head()"
   ]
  },
  {
   "cell_type": "code",
   "execution_count": 4,
   "metadata": {},
   "outputs": [
    {
     "data": {
      "text/html": [
       "<div>\n",
       "<style>\n",
       "    .dataframe thead tr:only-child th {\n",
       "        text-align: right;\n",
       "    }\n",
       "\n",
       "    .dataframe thead th {\n",
       "        text-align: left;\n",
       "    }\n",
       "\n",
       "    .dataframe tbody tr th {\n",
       "        vertical-align: top;\n",
       "    }\n",
       "</style>\n",
       "<table border=\"1\" class=\"dataframe\">\n",
       "  <thead>\n",
       "    <tr style=\"text-align: right;\">\n",
       "      <th></th>\n",
       "      <th>Age</th>\n",
       "      <th>GGD</th>\n",
       "      <th>Date</th>\n",
       "      <th>Onset Date</th>\n",
       "      <th>PostCode</th>\n",
       "      <th>Sex</th>\n",
       "      <th>Year of Birth</th>\n",
       "      <th>Count</th>\n",
       "      <th>Municipality</th>\n",
       "    </tr>\n",
       "  </thead>\n",
       "  <tbody>\n",
       "    <tr>\n",
       "      <th>0</th>\n",
       "      <td>16</td>\n",
       "      <td>HVB</td>\n",
       "      <td>2005-08</td>\n",
       "      <td>04-07-2005</td>\n",
       "      <td>5825</td>\n",
       "      <td>Man</td>\n",
       "      <td>1989-01-01</td>\n",
       "      <td>1</td>\n",
       "      <td>Boxmeer</td>\n",
       "    </tr>\n",
       "    <tr>\n",
       "      <th>1</th>\n",
       "      <td>16</td>\n",
       "      <td>HVB</td>\n",
       "      <td>2007-09</td>\n",
       "      <td>09-07-2007</td>\n",
       "      <td>5825</td>\n",
       "      <td>Vrouw</td>\n",
       "      <td>1991-01-01</td>\n",
       "      <td>1</td>\n",
       "      <td>Boxmeer</td>\n",
       "    </tr>\n",
       "    <tr>\n",
       "      <th>2</th>\n",
       "      <td>15</td>\n",
       "      <td>HVB</td>\n",
       "      <td>2008-02</td>\n",
       "      <td>22-01-2008</td>\n",
       "      <td>5825</td>\n",
       "      <td>Vrouw</td>\n",
       "      <td>1993-01-01</td>\n",
       "      <td>1</td>\n",
       "      <td>Boxmeer</td>\n",
       "    </tr>\n",
       "    <tr>\n",
       "      <th>3</th>\n",
       "      <td>9</td>\n",
       "      <td>HVB</td>\n",
       "      <td>2008-11</td>\n",
       "      <td>01-09-2008</td>\n",
       "      <td>5825</td>\n",
       "      <td>Man</td>\n",
       "      <td>1999-01-01</td>\n",
       "      <td>1</td>\n",
       "      <td>Boxmeer</td>\n",
       "    </tr>\n",
       "    <tr>\n",
       "      <th>4</th>\n",
       "      <td>14</td>\n",
       "      <td>HVB</td>\n",
       "      <td>2009-09</td>\n",
       "      <td>29-07-2009</td>\n",
       "      <td>5825</td>\n",
       "      <td>Vrouw</td>\n",
       "      <td>1995-01-01</td>\n",
       "      <td>1</td>\n",
       "      <td>Boxmeer</td>\n",
       "    </tr>\n",
       "  </tbody>\n",
       "</table>\n",
       "</div>"
      ],
      "text/plain": [
       "  Age  GGD    Date  Onset Date PostCode    Sex Year of Birth  Count  \\\n",
       "0  16  HVB 2005-08  04-07-2005     5825    Man    1989-01-01      1   \n",
       "1  16  HVB 2007-09  09-07-2007     5825  Vrouw    1991-01-01      1   \n",
       "2  15  HVB 2008-02  22-01-2008     5825  Vrouw    1993-01-01      1   \n",
       "3   9  HVB 2008-11  01-09-2008     5825    Man    1999-01-01      1   \n",
       "4  14  HVB 2009-09  29-07-2009     5825  Vrouw    1995-01-01      1   \n",
       "\n",
       "  Municipality  \n",
       "0      Boxmeer  \n",
       "1      Boxmeer  \n",
       "2      Boxmeer  \n",
       "3      Boxmeer  \n",
       "4      Boxmeer  "
      ]
     },
     "execution_count": 4,
     "metadata": {},
     "output_type": "execute_result"
    }
   ],
   "source": [
    "data.find_mun()\n",
    "data.df.head()"
   ]
  },
  {
   "cell_type": "code",
   "execution_count": 5,
   "metadata": {},
   "outputs": [],
   "source": [
    "data = data.monthly_municipality()"
   ]
  },
  {
   "cell_type": "code",
   "execution_count": 6,
   "metadata": {},
   "outputs": [
    {
     "data": {
      "text/html": [
       "<div>\n",
       "<style>\n",
       "    .dataframe thead tr:only-child th {\n",
       "        text-align: right;\n",
       "    }\n",
       "\n",
       "    .dataframe thead th {\n",
       "        text-align: left;\n",
       "    }\n",
       "\n",
       "    .dataframe tbody tr th {\n",
       "        vertical-align: top;\n",
       "    }\n",
       "</style>\n",
       "<table border=\"1\" class=\"dataframe\">\n",
       "  <thead>\n",
       "    <tr style=\"text-align: right;\">\n",
       "      <th></th>\n",
       "      <th>Municipality</th>\n",
       "      <th>2004-01</th>\n",
       "      <th>2004-02</th>\n",
       "      <th>2004-03</th>\n",
       "      <th>2004-04</th>\n",
       "      <th>2004-05</th>\n",
       "      <th>2004-06</th>\n",
       "      <th>2004-07</th>\n",
       "      <th>2004-08</th>\n",
       "      <th>2004-09</th>\n",
       "      <th>...</th>\n",
       "      <th>2017-03</th>\n",
       "      <th>2017-04</th>\n",
       "      <th>2017-05</th>\n",
       "      <th>2017-06</th>\n",
       "      <th>2017-07</th>\n",
       "      <th>2017-08</th>\n",
       "      <th>2017-09</th>\n",
       "      <th>2017-10</th>\n",
       "      <th>2017-11</th>\n",
       "      <th>2017-12</th>\n",
       "    </tr>\n",
       "  </thead>\n",
       "  <tbody>\n",
       "    <tr>\n",
       "      <th>0</th>\n",
       "      <td>'s-Hertogenbosch</td>\n",
       "      <td>7</td>\n",
       "      <td>8</td>\n",
       "      <td>12</td>\n",
       "      <td>6</td>\n",
       "      <td>12</td>\n",
       "      <td>16</td>\n",
       "      <td>3</td>\n",
       "      <td>9</td>\n",
       "      <td>7</td>\n",
       "      <td>...</td>\n",
       "      <td>3</td>\n",
       "      <td>3</td>\n",
       "      <td>1</td>\n",
       "      <td>10</td>\n",
       "      <td>4</td>\n",
       "      <td>10</td>\n",
       "      <td>4</td>\n",
       "      <td>3</td>\n",
       "      <td>2</td>\n",
       "      <td>1</td>\n",
       "    </tr>\n",
       "    <tr>\n",
       "      <th>1</th>\n",
       "      <td>Aalburg</td>\n",
       "      <td>0</td>\n",
       "      <td>0</td>\n",
       "      <td>1</td>\n",
       "      <td>0</td>\n",
       "      <td>1</td>\n",
       "      <td>1</td>\n",
       "      <td>0</td>\n",
       "      <td>1</td>\n",
       "      <td>0</td>\n",
       "      <td>...</td>\n",
       "      <td>0</td>\n",
       "      <td>0</td>\n",
       "      <td>0</td>\n",
       "      <td>0</td>\n",
       "      <td>0</td>\n",
       "      <td>1</td>\n",
       "      <td>0</td>\n",
       "      <td>0</td>\n",
       "      <td>0</td>\n",
       "      <td>0</td>\n",
       "    </tr>\n",
       "    <tr>\n",
       "      <th>2</th>\n",
       "      <td>Alphen-Chaam</td>\n",
       "      <td>0</td>\n",
       "      <td>1</td>\n",
       "      <td>0</td>\n",
       "      <td>0</td>\n",
       "      <td>0</td>\n",
       "      <td>0</td>\n",
       "      <td>0</td>\n",
       "      <td>0</td>\n",
       "      <td>3</td>\n",
       "      <td>...</td>\n",
       "      <td>0</td>\n",
       "      <td>0</td>\n",
       "      <td>0</td>\n",
       "      <td>0</td>\n",
       "      <td>0</td>\n",
       "      <td>0</td>\n",
       "      <td>0</td>\n",
       "      <td>0</td>\n",
       "      <td>0</td>\n",
       "      <td>0</td>\n",
       "    </tr>\n",
       "    <tr>\n",
       "      <th>3</th>\n",
       "      <td>Asten</td>\n",
       "      <td>0</td>\n",
       "      <td>0</td>\n",
       "      <td>2</td>\n",
       "      <td>0</td>\n",
       "      <td>1</td>\n",
       "      <td>0</td>\n",
       "      <td>0</td>\n",
       "      <td>0</td>\n",
       "      <td>0</td>\n",
       "      <td>...</td>\n",
       "      <td>0</td>\n",
       "      <td>0</td>\n",
       "      <td>0</td>\n",
       "      <td>0</td>\n",
       "      <td>0</td>\n",
       "      <td>0</td>\n",
       "      <td>0</td>\n",
       "      <td>0</td>\n",
       "      <td>0</td>\n",
       "      <td>0</td>\n",
       "    </tr>\n",
       "    <tr>\n",
       "      <th>4</th>\n",
       "      <td>Baarle-Nassau</td>\n",
       "      <td>0</td>\n",
       "      <td>0</td>\n",
       "      <td>0</td>\n",
       "      <td>0</td>\n",
       "      <td>0</td>\n",
       "      <td>0</td>\n",
       "      <td>0</td>\n",
       "      <td>0</td>\n",
       "      <td>1</td>\n",
       "      <td>...</td>\n",
       "      <td>0</td>\n",
       "      <td>0</td>\n",
       "      <td>0</td>\n",
       "      <td>0</td>\n",
       "      <td>0</td>\n",
       "      <td>0</td>\n",
       "      <td>1</td>\n",
       "      <td>1</td>\n",
       "      <td>0</td>\n",
       "      <td>0</td>\n",
       "    </tr>\n",
       "  </tbody>\n",
       "</table>\n",
       "<p>5 rows × 169 columns</p>\n",
       "</div>"
      ],
      "text/plain": [
       "       Municipality  2004-01  2004-02  2004-03  2004-04  2004-05  2004-06  \\\n",
       "0  's-Hertogenbosch        7        8       12        6       12       16   \n",
       "1           Aalburg        0        0        1        0        1        1   \n",
       "2      Alphen-Chaam        0        1        0        0        0        0   \n",
       "3             Asten        0        0        2        0        1        0   \n",
       "4     Baarle-Nassau        0        0        0        0        0        0   \n",
       "\n",
       "   2004-07  2004-08  2004-09   ...     2017-03  2017-04  2017-05  2017-06  \\\n",
       "0        3        9        7   ...           3        3        1       10   \n",
       "1        0        1        0   ...           0        0        0        0   \n",
       "2        0        0        3   ...           0        0        0        0   \n",
       "3        0        0        0   ...           0        0        0        0   \n",
       "4        0        0        1   ...           0        0        0        0   \n",
       "\n",
       "   2017-07  2017-08  2017-09  2017-10  2017-11  2017-12  \n",
       "0        4       10        4        3        2        1  \n",
       "1        0        1        0        0        0        0  \n",
       "2        0        0        0        0        0        0  \n",
       "3        0        0        0        0        0        0  \n",
       "4        0        0        1        1        0        0  \n",
       "\n",
       "[5 rows x 169 columns]"
      ]
     },
     "execution_count": 6,
     "metadata": {},
     "output_type": "execute_result"
    }
   ],
   "source": [
    "data.head()"
   ]
  },
  {
   "cell_type": "code",
   "execution_count": 9,
   "metadata": {},
   "outputs": [
    {
     "data": {
      "text/plain": [
       "69"
      ]
     },
     "execution_count": 9,
     "metadata": {},
     "output_type": "execute_result"
    }
   ],
   "source": [
    "len(data)"
   ]
  },
  {
   "cell_type": "code",
   "execution_count": null,
   "metadata": {
    "collapsed": true
   },
   "outputs": [],
   "source": []
  },
  {
   "cell_type": "code",
   "execution_count": 7,
   "metadata": {},
   "outputs": [],
   "source": [
    "br_mun_list = mun_to_GGD['Municipality'][mun_to_GGD['GGD'].isin(['BZO', 'HVB', 'WB'])]\n",
    "br_mun_list = br_mun_list.tolist()"
   ]
  },
  {
   "cell_type": "code",
   "execution_count": 8,
   "metadata": {},
   "outputs": [
    {
     "data": {
      "text/plain": [
       "72"
      ]
     },
     "execution_count": 8,
     "metadata": {},
     "output_type": "execute_result"
    }
   ],
   "source": [
    "len(br_mun_list)"
   ]
  },
  {
   "cell_type": "code",
   "execution_count": 11,
   "metadata": {},
   "outputs": [
    {
     "data": {
      "text/plain": [
       "['Asten',\n",
       " 'Bergeijk',\n",
       " 'Best',\n",
       " 'Bladel',\n",
       " 'Son en Breugel',\n",
       " 'Cranendonck',\n",
       " 'Deurne',\n",
       " 'Eersel',\n",
       " 'Eindhoven',\n",
       " 'Geldrop-Mierlo',\n",
       " 'Gemert-Bakel',\n",
       " 'Heeze-Leende',\n",
       " 'Helmond',\n",
       " 'Nuenen',\n",
       " 'Laarbeek',\n",
       " 'Oirschot',\n",
       " 'Reusel-De Mierden',\n",
       " 'Someren',\n",
       " 'Son en Breugel',\n",
       " 'Valkenswaard',\n",
       " 'Veldhoven',\n",
       " 'Waalre',\n",
       " 'Bernheze',\n",
       " 'Boekel',\n",
       " 'Boxmeer',\n",
       " 'Boxtel',\n",
       " 'Cuijk',\n",
       " 'Maasdonk',\n",
       " 'Dongen',\n",
       " 'Gilze en Rijen',\n",
       " 'Goirle',\n",
       " 'Grave',\n",
       " 'Haaren',\n",
       " 'Heusden',\n",
       " 'Hilvarenbeek',\n",
       " 'Landerd',\n",
       " 'Loon op Zand',\n",
       " 'Maasdonk',\n",
       " 'Mill en Sint Hubert',\n",
       " 'Oisterwijk',\n",
       " 'Oss',\n",
       " 'Schijndel',\n",
       " \"'s-Hertogenbosch\",\n",
       " 'Sint Anthonis',\n",
       " 'Maasdriel',\n",
       " 'Sint-Michielsgestel',\n",
       " 'Sint-Oedenrode',\n",
       " 'Tilburg',\n",
       " 'Uden',\n",
       " 'Veghel',\n",
       " 'Vught',\n",
       " 'Waalwijk',\n",
       " 'Meierijstad',\n",
       " 'Aalburg',\n",
       " 'Baarle-Nassau',\n",
       " 'Bergen op Zoom',\n",
       " 'Breda',\n",
       " 'Etten-Leur',\n",
       " 'Geertruidenberg',\n",
       " 'Oosterhout',\n",
       " 'Rucphen',\n",
       " 'Steenbergen',\n",
       " 'Werkendam',\n",
       " 'Woensdrecht',\n",
       " 'Woudrichem',\n",
       " 'Gilzeen Rijen',\n",
       " 'Zundert',\n",
       " 'Halderberge',\n",
       " 'Roosendaal',\n",
       " 'Moerdijk',\n",
       " 'Drimmelen',\n",
       " 'Alphen-Chaam']"
      ]
     },
     "execution_count": 11,
     "metadata": {},
     "output_type": "execute_result"
    }
   ],
   "source": [
    "br_mun_list"
   ]
  },
  {
   "cell_type": "code",
   "execution_count": 13,
   "metadata": {},
   "outputs": [
    {
     "name": "stdout",
     "output_type": "stream",
     "text": [
      "Nuenen\n",
      "Reusel-De Mierden\n",
      "Maasdonk\n",
      "Maasdonk\n",
      "Meierijstad\n",
      "Gilzeen Rijen\n"
     ]
    }
   ],
   "source": [
    "for i in br_mun_list:\n",
    "    if i not in data.Municipality.tolist():\n",
    "        print(i)"
   ]
  },
  {
   "cell_type": "code",
   "execution_count": null,
   "metadata": {
    "collapsed": true
   },
   "outputs": [],
   "source": []
  },
  {
   "cell_type": "code",
   "execution_count": null,
   "metadata": {
    "collapsed": true
   },
   "outputs": [],
   "source": []
  },
  {
   "cell_type": "code",
   "execution_count": null,
   "metadata": {},
   "outputs": [],
   "source": [
    "data.columns"
   ]
  },
  {
   "cell_type": "code",
   "execution_count": null,
   "metadata": {},
   "outputs": [],
   "source": [
    "'Nuenen' in shp_data['Municipality']"
   ]
  },
  {
   "cell_type": "code",
   "execution_count": null,
   "metadata": {},
   "outputs": [],
   "source": [
    "print('Nuenen' in shp_data['Municipality'].unique())\n",
    "print('Eindhoven' in shp_data['Municipality'].unique())"
   ]
  },
  {
   "cell_type": "code",
   "execution_count": null,
   "metadata": {
    "collapsed": true
   },
   "outputs": [],
   "source": [
    "os.chdir(r'C:\\Users\\ekoulier\\Desktop\\Infectious Diseases\\Data\\Kinkhoest_Data')\n",
    "data = pd.read_csv('df_ALL.csv')\n",
    "os.chdir(cwd)"
   ]
  },
  {
   "cell_type": "code",
   "execution_count": null,
   "metadata": {},
   "outputs": [],
   "source": [
    "data.head()"
   ]
  },
  {
   "cell_type": "code",
   "execution_count": null,
   "metadata": {
    "collapsed": true
   },
   "outputs": [],
   "source": [
    "data = monthly_transfrom(data)"
   ]
  },
  {
   "cell_type": "code",
   "execution_count": null,
   "metadata": {},
   "outputs": [],
   "source": [
    "data.first_method()\n",
    "data.df.head()"
   ]
  },
  {
   "cell_type": "code",
   "execution_count": null,
   "metadata": {},
   "outputs": [],
   "source": [
    "print('Nuenen' in data.df['Municipality'].unique())\n",
    "print( 5671 in data.df['PostCode'].unique())\n",
    "print( 5671.0 in data.df['PostCode'].unique())\n",
    "print( 5672.0 in data.df['PostCode'].unique())\n",
    "print( 5673.0 in data.df['PostCode'].unique())\n",
    "print( 5674.0 in data.df['PostCode'].unique())\n",
    "print( 5673.0 in data.df['PostCode'].unique())"
   ]
  },
  {
   "cell_type": "code",
   "execution_count": null,
   "metadata": {},
   "outputs": [],
   "source": [
    "data.find_mun()\n",
    "data.df.head()"
   ]
  },
  {
   "cell_type": "code",
   "execution_count": null,
   "metadata": {},
   "outputs": [],
   "source": [
    "print('Nuenen' in data.df['Municipality'].unique())\n",
    "print('Eindhoven' in data.df['Municipality'].unique())"
   ]
  },
  {
   "cell_type": "code",
   "execution_count": null,
   "metadata": {
    "collapsed": true
   },
   "outputs": [],
   "source": []
  },
  {
   "cell_type": "code",
   "execution_count": null,
   "metadata": {
    "collapsed": true
   },
   "outputs": [],
   "source": []
  },
  {
   "cell_type": "code",
   "execution_count": null,
   "metadata": {
    "collapsed": true
   },
   "outputs": [],
   "source": []
  },
  {
   "cell_type": "code",
   "execution_count": null,
   "metadata": {
    "collapsed": true
   },
   "outputs": [],
   "source": []
  },
  {
   "cell_type": "code",
   "execution_count": null,
   "metadata": {},
   "outputs": [],
   "source": [
    "'Neunen' in shp_data['Municipality'].unique()"
   ]
  },
  {
   "cell_type": "code",
   "execution_count": null,
   "metadata": {
    "collapsed": true
   },
   "outputs": [],
   "source": [
    "cwd = os.getcwd()\n",
    "\n",
    "os.chdir(r'C:\\Users\\ekoulier\\Desktop\\Infectious Diseases\\Data\\Kinkhoest_Data')\n",
    "data = pd.read_csv('df_ALL.csv')\n",
    "os.chdir(cwd)\n",
    "\n",
    "# Create the shape DataFrame to be used\n",
    "data = monthly_transfrom(data)\n",
    "data.first_method()"
   ]
  },
  {
   "cell_type": "code",
   "execution_count": null,
   "metadata": {
    "collapsed": true
   },
   "outputs": [],
   "source": [
    "cwd = os.getcwd()\n",
    "os.chdir(r'C:/Users/ekoulier/Desktop/Infectious Diseases/Data/Map')\n",
    "post_to_mun = pd.read_csv('Post_to_Mun.txt')\n",
    "mun_to_GGD = pd.read_csv('Mun_to_GGD.csv', sep=';')\n",
    "shp_Nether = gpd.read_file('GEO.Gemeente_2015.shp')\n",
    "os.chdir(cwd)"
   ]
  },
  {
   "cell_type": "code",
   "execution_count": null,
   "metadata": {
    "collapsed": true
   },
   "outputs": [],
   "source": [
    "mun_list = mun_to_GGD['Municipality'][mun_to_GGD['GGD'].isin(['BZO', 'HVB', 'WB'])]"
   ]
  },
  {
   "cell_type": "code",
   "execution_count": null,
   "metadata": {
    "collapsed": true
   },
   "outputs": [],
   "source": []
  },
  {
   "cell_type": "code",
   "execution_count": null,
   "metadata": {
    "collapsed": true
   },
   "outputs": [],
   "source": [
    "temp_dict = {'Municipality': 'Oos'}\n",
    "for i in ['BZO', 'HVB', 'WB']:\n",
    "    temp_dict[i] = 0"
   ]
  },
  {
   "cell_type": "code",
   "execution_count": null,
   "metadata": {},
   "outputs": [],
   "source": [
    "temp_dict = pd.Series(data=temp_dict)"
   ]
  },
  {
   "cell_type": "code",
   "execution_count": null,
   "metadata": {},
   "outputs": [],
   "source": [
    "temp_dict"
   ]
  },
  {
   "cell_type": "code",
   "execution_count": null,
   "metadata": {
    "collapsed": true
   },
   "outputs": [],
   "source": [
    "datadata = {'Municipality': ['A', 'B'], 'BZO': [45,34], 'HVB': [22,12], 'WB': [3, 65]}"
   ]
  },
  {
   "cell_type": "code",
   "execution_count": null,
   "metadata": {
    "collapsed": true
   },
   "outputs": [],
   "source": [
    "s2 = pd.DataFrame(data = datadata)"
   ]
  },
  {
   "cell_type": "code",
   "execution_count": null,
   "metadata": {},
   "outputs": [],
   "source": [
    "s2"
   ]
  },
  {
   "cell_type": "code",
   "execution_count": null,
   "metadata": {},
   "outputs": [],
   "source": [
    "s2.append(temp_dict, ignore_index=True)"
   ]
  },
  {
   "cell_type": "code",
   "execution_count": null,
   "metadata": {},
   "outputs": [],
   "source": [
    "s2"
   ]
  },
  {
   "cell_type": "code",
   "execution_count": null,
   "metadata": {},
   "outputs": [],
   "source": [
    "s2 = s2[s2['Municipality'].isin(['Oos', 'A'])]"
   ]
  },
  {
   "cell_type": "code",
   "execution_count": null,
   "metadata": {},
   "outputs": [],
   "source": [
    "s2"
   ]
  },
  {
   "cell_type": "code",
   "execution_count": null,
   "metadata": {
    "collapsed": true
   },
   "outputs": [],
   "source": []
  },
  {
   "cell_type": "code",
   "execution_count": null,
   "metadata": {
    "collapsed": true
   },
   "outputs": [],
   "source": []
  },
  {
   "cell_type": "code",
   "execution_count": null,
   "metadata": {
    "collapsed": true
   },
   "outputs": [],
   "source": []
  },
  {
   "cell_type": "code",
   "execution_count": null,
   "metadata": {
    "collapsed": true
   },
   "outputs": [],
   "source": []
  },
  {
   "cell_type": "code",
   "execution_count": null,
   "metadata": {},
   "outputs": [],
   "source": [
    "a.remove('Municipality')"
   ]
  },
  {
   "cell_type": "code",
   "execution_count": null,
   "metadata": {},
   "outputs": [],
   "source": [
    "a"
   ]
  },
  {
   "cell_type": "code",
   "execution_count": null,
   "metadata": {
    "collapsed": true
   },
   "outputs": [],
   "source": []
  },
  {
   "cell_type": "code",
   "execution_count": null,
   "metadata": {},
   "outputs": [],
   "source": [
    "lista = ['Oss']\n",
    "for i in range(len(['BZO', 'HVB', 'WB'])):\n",
    "    lista.append(0)\n",
    "\n",
    "s2 = pd.DataFrame(data = lista, columns=['A', 'B', 'C', 'D'])\n",
    "s3 = pd.Series(lista, index=['B', 'A', 'C', 'D'])"
   ]
  },
  {
   "cell_type": "code",
   "execution_count": null,
   "metadata": {},
   "outputs": [],
   "source": [
    "pd.DataFrame(data = lista, columns=['A', 'B', 'C', 'D'])"
   ]
  },
  {
   "cell_type": "code",
   "execution_count": null,
   "metadata": {},
   "outputs": [],
   "source": [
    "s3"
   ]
  },
  {
   "cell_type": "code",
   "execution_count": null,
   "metadata": {},
   "outputs": [],
   "source": [
    "s2.append(s3)"
   ]
  },
  {
   "cell_type": "code",
   "execution_count": null,
   "metadata": {},
   "outputs": [],
   "source": [
    "'Nuenen' in data['Municipality']"
   ]
  },
  {
   "cell_type": "code",
   "execution_count": null,
   "metadata": {},
   "outputs": [],
   "source": [
    "shp_data['Municipality'].unique()"
   ]
  },
  {
   "cell_type": "code",
   "execution_count": null,
   "metadata": {
    "collapsed": true
   },
   "outputs": [],
   "source": [
    "cwd = os.getcwd()\n",
    "os.chdir(r'C:/Users/ekoulier/Desktop/Infectious Diseases/Data/Map')\n",
    "\n",
    "# We replace Neunen because it is called differently\n",
    "neunen = 'Nuenen, Gerwen en Nederwetten'\n",
    "post_to_mun = pd.read_csv('Post_to_Mun.txt')\n",
    "post_to_mun['Municipality'] = post_to_mun['Municipality'].replace({'Nuenen':\n",
    "                                                                   neunen})\n",
    "\n",
    "mun_to_GGD = pd.read_csv('Mun_to_GGD.csv', sep=';')\n",
    "mun_to_GGD['Municipality'] = mun_to_GGD['Municipality'].replace({'Nuenen':\n",
    "                                                                 neunen})\n",
    "\n",
    "shp_Nether = gpd.read_file('GEO.Gemeente_2015.shp')\n",
    "\n",
    "os.chdir(cwd)\n",
    "\n",
    "columns = shp_Nether.columns\n",
    "columns = [x for x in columns if x not in ['GMNAAM', 'geometry']]\n",
    "\n",
    "for column in columns:\n",
    "    del shp_Nether[column]\n",
    "\n",
    "shp_Nether.columns = ['Municipality', 'geometry']\n",
    "\n",
    "# This region is displayed differently in our files\n",
    "shp_Nether['Municipality'] = shp_Nether['Municipality'].replace('Nuenen, Gerwen en Nederwetten', 'Neunen')\n"
   ]
  },
  {
   "cell_type": "code",
   "execution_count": null,
   "metadata": {},
   "outputs": [],
   "source": [
    "'Neunen' in shp_Nether['Municipality'].unique().tolist()"
   ]
  },
  {
   "cell_type": "code",
   "execution_count": null,
   "metadata": {},
   "outputs": [],
   "source": [
    "'Eindhoven' in data['Municipality'].unique().tolist()"
   ]
  },
  {
   "cell_type": "code",
   "execution_count": null,
   "metadata": {
    "collapsed": true
   },
   "outputs": [],
   "source": []
  },
  {
   "cell_type": "code",
   "execution_count": null,
   "metadata": {},
   "outputs": [],
   "source": [
    "import sys\n",
    "sys.path.append(\"../../Central_Folder\")\n",
    "from Locations import monthly_transfrom, make_df_shapefile\n",
    "\n",
    "\n",
    "os.chdir(r'C:\\Users\\ekoulier\\Desktop\\Infectious Diseases\\Data\\Kinkhoest_Data')\n",
    "data = pd.read_csv('df_ALL.csv')\n",
    "os.chdir(cwd)\n",
    "\n",
    "# Create the shape DataFrame to be used\n",
    "data = monthly_transfrom(data)\n",
    "data.first_method()\n",
    "data.find_mun()\n",
    "data = data.monthly_municipality()\n",
    "\n",
    "shp_data = make_df_shapefile(data)\n",
    "column_list = shp_data.columns.tolist()\n",
    "column_list = [e for e in column_list if e not in\n",
    "               ('Municipality', 'geometry')]\n",
    "\n",
    "# Here Starts the Bokeh App\n"
   ]
  },
  {
   "cell_type": "code",
   "execution_count": null,
   "metadata": {
    "collapsed": true
   },
   "outputs": [],
   "source": []
  },
  {
   "cell_type": "code",
   "execution_count": null,
   "metadata": {
    "collapsed": true
   },
   "outputs": [],
   "source": []
  },
  {
   "cell_type": "code",
   "execution_count": null,
   "metadata": {
    "collapsed": true
   },
   "outputs": [],
   "source": []
  },
  {
   "cell_type": "code",
   "execution_count": null,
   "metadata": {
    "collapsed": true
   },
   "outputs": [],
   "source": []
  },
  {
   "cell_type": "code",
   "execution_count": null,
   "metadata": {
    "collapsed": true
   },
   "outputs": [],
   "source": []
  },
  {
   "cell_type": "code",
   "execution_count": null,
   "metadata": {
    "collapsed": true
   },
   "outputs": [],
   "source": []
  },
  {
   "cell_type": "code",
   "execution_count": null,
   "metadata": {
    "collapsed": true
   },
   "outputs": [],
   "source": []
  }
 ],
 "metadata": {
  "kernelspec": {
   "display_name": "Python 3",
   "language": "python",
   "name": "python3"
  },
  "language_info": {
   "codemirror_mode": {
    "name": "ipython",
    "version": 3
   },
   "file_extension": ".py",
   "mimetype": "text/x-python",
   "name": "python",
   "nbconvert_exporter": "python",
   "pygments_lexer": "ipython3",
   "version": "3.6.3"
  }
 },
 "nbformat": 4,
 "nbformat_minor": 2
}
