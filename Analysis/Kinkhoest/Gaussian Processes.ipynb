{
 "cells": [
  {
   "cell_type": "markdown",
   "metadata": {},
   "source": [
    "## Gaussian Processes Regression"
   ]
  },
  {
   "cell_type": "markdown",
   "metadata": {},
   "source": [
    "### Preprocessing the Monthly Aggregated Data.\n",
    "\n",
    "First we import the necessary packages. We then create the dataset by defing the *create_lag* function and use it to make the dataset we want.\n",
    "\n"
   ]
  },
  {
   "cell_type": "code",
   "execution_count": 1,
   "metadata": {
    "collapsed": true
   },
   "outputs": [],
   "source": [
    "import pandas as pd\n",
    "import numpy as np \n",
    "import matplotlib.pyplot as plt"
   ]
  },
  {
   "cell_type": "code",
   "execution_count": 2,
   "metadata": {
    "collapsed": true
   },
   "outputs": [],
   "source": [
    "import os\n",
    "cwd = os.getcwd()\n",
    "os.chdir('C:\\\\Users\\\\ekoulier\\\\Desktop\\\\GGD\\\\New Data\\\\Central_Folder')\n",
    "data = pd.read_csv('br_regions_gt.csv')\n",
    "data = data[['HVB', 'Date', 'WB', 'BZO', 'Trends']]\n",
    "os.chdir(cwd)"
   ]
  },
  {
   "cell_type": "code",
   "execution_count": 3,
   "metadata": {},
   "outputs": [
    {
     "data": {
      "text/html": [
       "<div>\n",
       "<style>\n",
       "    .dataframe thead tr:only-child th {\n",
       "        text-align: right;\n",
       "    }\n",
       "\n",
       "    .dataframe thead th {\n",
       "        text-align: left;\n",
       "    }\n",
       "\n",
       "    .dataframe tbody tr th {\n",
       "        vertical-align: top;\n",
       "    }\n",
       "</style>\n",
       "<table border=\"1\" class=\"dataframe\">\n",
       "  <thead>\n",
       "    <tr style=\"text-align: right;\">\n",
       "      <th></th>\n",
       "      <th>HVB</th>\n",
       "      <th>Date</th>\n",
       "      <th>WB</th>\n",
       "      <th>BZO</th>\n",
       "      <th>Trends</th>\n",
       "    </tr>\n",
       "  </thead>\n",
       "  <tbody>\n",
       "    <tr>\n",
       "      <th>0</th>\n",
       "      <td>29</td>\n",
       "      <td>2004-01</td>\n",
       "      <td>3</td>\n",
       "      <td>20</td>\n",
       "      <td>0</td>\n",
       "    </tr>\n",
       "    <tr>\n",
       "      <th>1</th>\n",
       "      <td>26</td>\n",
       "      <td>2004-02</td>\n",
       "      <td>12</td>\n",
       "      <td>11</td>\n",
       "      <td>0</td>\n",
       "    </tr>\n",
       "    <tr>\n",
       "      <th>2</th>\n",
       "      <td>43</td>\n",
       "      <td>2004-03</td>\n",
       "      <td>5</td>\n",
       "      <td>23</td>\n",
       "      <td>57</td>\n",
       "    </tr>\n",
       "    <tr>\n",
       "      <th>3</th>\n",
       "      <td>22</td>\n",
       "      <td>2004-04</td>\n",
       "      <td>8</td>\n",
       "      <td>44</td>\n",
       "      <td>47</td>\n",
       "    </tr>\n",
       "    <tr>\n",
       "      <th>4</th>\n",
       "      <td>41</td>\n",
       "      <td>2004-05</td>\n",
       "      <td>18</td>\n",
       "      <td>39</td>\n",
       "      <td>0</td>\n",
       "    </tr>\n",
       "  </tbody>\n",
       "</table>\n",
       "</div>"
      ],
      "text/plain": [
       "   HVB     Date  WB  BZO  Trends\n",
       "0   29  2004-01   3   20       0\n",
       "1   26  2004-02  12   11       0\n",
       "2   43  2004-03   5   23      57\n",
       "3   22  2004-04   8   44      47\n",
       "4   41  2004-05  18   39       0"
      ]
     },
     "execution_count": 3,
     "metadata": {},
     "output_type": "execute_result"
    }
   ],
   "source": [
    "data.head()"
   ]
  },
  {
   "cell_type": "markdown",
   "metadata": {},
   "source": [
    "We make the create_lag function in order to create the dataset that contains the time lags."
   ]
  },
  {
   "cell_type": "code",
   "execution_count": 4,
   "metadata": {
    "collapsed": true
   },
   "outputs": [],
   "source": [
    "def create_lag(df, n_lags):\n",
    "    \"\"\"\n",
    "    Manipulates the dataset in order to create time lags for 'HVB', 'WB', 'BZO' and 'Trends'.\n",
    "    \"\"\"\n",
    "    \n",
    "    assert type(n_lags) == int\n",
    " \n",
    "    for i in ['HVB', 'WB', 'BZO', 'Trends']:\n",
    "        for j in range(1, n_lags + 1):\n",
    "            df[i+'-'+str(j)] = df[i].shift(j)\n",
    "        df[i+'+1'] = df[i].shift(-1)\n",
    "        \n",
    "    # We dont need to forecast the google trends    \n",
    "    del df['Trends+1']\n",
    "    \n",
    "    # Due to the shift that creates nans, we delete the first n_lags rows and the last row.\n",
    "    df = df[n_lags:].reset_index(drop = True)\n",
    "    df = df[:-1]\n",
    "    \n",
    "    return df"
   ]
  },
  {
   "cell_type": "code",
   "execution_count": 5,
   "metadata": {
    "collapsed": true
   },
   "outputs": [],
   "source": [
    "data2 = data.copy()\n",
    "data2 = data2[18:]\n",
    "data2 = create_lag(data2, 4)"
   ]
  },
  {
   "cell_type": "code",
   "execution_count": 6,
   "metadata": {
    "collapsed": true
   },
   "outputs": [],
   "source": [
    "data2['Date'] = pd.to_datetime(data2['Date'], format = '%Y-%m')"
   ]
  },
  {
   "cell_type": "code",
   "execution_count": 7,
   "metadata": {},
   "outputs": [
    {
     "data": {
      "text/html": [
       "<div>\n",
       "<style>\n",
       "    .dataframe thead tr:only-child th {\n",
       "        text-align: right;\n",
       "    }\n",
       "\n",
       "    .dataframe thead th {\n",
       "        text-align: left;\n",
       "    }\n",
       "\n",
       "    .dataframe tbody tr th {\n",
       "        vertical-align: top;\n",
       "    }\n",
       "</style>\n",
       "<table border=\"1\" class=\"dataframe\">\n",
       "  <thead>\n",
       "    <tr style=\"text-align: right;\">\n",
       "      <th></th>\n",
       "      <th>HVB</th>\n",
       "      <th>Date</th>\n",
       "      <th>WB</th>\n",
       "      <th>BZO</th>\n",
       "      <th>Trends</th>\n",
       "      <th>HVB-1</th>\n",
       "      <th>HVB-2</th>\n",
       "      <th>HVB-3</th>\n",
       "      <th>HVB-4</th>\n",
       "      <th>HVB+1</th>\n",
       "      <th>...</th>\n",
       "      <th>WB+1</th>\n",
       "      <th>BZO-1</th>\n",
       "      <th>BZO-2</th>\n",
       "      <th>BZO-3</th>\n",
       "      <th>BZO-4</th>\n",
       "      <th>BZO+1</th>\n",
       "      <th>Trends-1</th>\n",
       "      <th>Trends-2</th>\n",
       "      <th>Trends-3</th>\n",
       "      <th>Trends-4</th>\n",
       "    </tr>\n",
       "  </thead>\n",
       "  <tbody>\n",
       "    <tr>\n",
       "      <th>140</th>\n",
       "      <td>59</td>\n",
       "      <td>2017-07-01</td>\n",
       "      <td>17</td>\n",
       "      <td>18</td>\n",
       "      <td>17</td>\n",
       "      <td>80.0</td>\n",
       "      <td>39.0</td>\n",
       "      <td>53.0</td>\n",
       "      <td>61.0</td>\n",
       "      <td>44.0</td>\n",
       "      <td>...</td>\n",
       "      <td>24.0</td>\n",
       "      <td>13.0</td>\n",
       "      <td>21.0</td>\n",
       "      <td>12.0</td>\n",
       "      <td>4.0</td>\n",
       "      <td>12.0</td>\n",
       "      <td>19.0</td>\n",
       "      <td>19.0</td>\n",
       "      <td>23.0</td>\n",
       "      <td>15.0</td>\n",
       "    </tr>\n",
       "    <tr>\n",
       "      <th>141</th>\n",
       "      <td>44</td>\n",
       "      <td>2017-08-01</td>\n",
       "      <td>24</td>\n",
       "      <td>12</td>\n",
       "      <td>8</td>\n",
       "      <td>59.0</td>\n",
       "      <td>80.0</td>\n",
       "      <td>39.0</td>\n",
       "      <td>53.0</td>\n",
       "      <td>58.0</td>\n",
       "      <td>...</td>\n",
       "      <td>36.0</td>\n",
       "      <td>18.0</td>\n",
       "      <td>13.0</td>\n",
       "      <td>21.0</td>\n",
       "      <td>12.0</td>\n",
       "      <td>11.0</td>\n",
       "      <td>17.0</td>\n",
       "      <td>19.0</td>\n",
       "      <td>19.0</td>\n",
       "      <td>23.0</td>\n",
       "    </tr>\n",
       "    <tr>\n",
       "      <th>142</th>\n",
       "      <td>58</td>\n",
       "      <td>2017-09-01</td>\n",
       "      <td>36</td>\n",
       "      <td>11</td>\n",
       "      <td>19</td>\n",
       "      <td>44.0</td>\n",
       "      <td>59.0</td>\n",
       "      <td>80.0</td>\n",
       "      <td>39.0</td>\n",
       "      <td>27.0</td>\n",
       "      <td>...</td>\n",
       "      <td>22.0</td>\n",
       "      <td>12.0</td>\n",
       "      <td>18.0</td>\n",
       "      <td>13.0</td>\n",
       "      <td>21.0</td>\n",
       "      <td>10.0</td>\n",
       "      <td>8.0</td>\n",
       "      <td>17.0</td>\n",
       "      <td>19.0</td>\n",
       "      <td>19.0</td>\n",
       "    </tr>\n",
       "    <tr>\n",
       "      <th>143</th>\n",
       "      <td>27</td>\n",
       "      <td>2017-10-01</td>\n",
       "      <td>22</td>\n",
       "      <td>10</td>\n",
       "      <td>21</td>\n",
       "      <td>58.0</td>\n",
       "      <td>44.0</td>\n",
       "      <td>59.0</td>\n",
       "      <td>80.0</td>\n",
       "      <td>23.0</td>\n",
       "      <td>...</td>\n",
       "      <td>23.0</td>\n",
       "      <td>11.0</td>\n",
       "      <td>12.0</td>\n",
       "      <td>18.0</td>\n",
       "      <td>13.0</td>\n",
       "      <td>10.0</td>\n",
       "      <td>19.0</td>\n",
       "      <td>8.0</td>\n",
       "      <td>17.0</td>\n",
       "      <td>19.0</td>\n",
       "    </tr>\n",
       "    <tr>\n",
       "      <th>144</th>\n",
       "      <td>23</td>\n",
       "      <td>2017-11-01</td>\n",
       "      <td>23</td>\n",
       "      <td>10</td>\n",
       "      <td>19</td>\n",
       "      <td>27.0</td>\n",
       "      <td>58.0</td>\n",
       "      <td>44.0</td>\n",
       "      <td>59.0</td>\n",
       "      <td>21.0</td>\n",
       "      <td>...</td>\n",
       "      <td>16.0</td>\n",
       "      <td>10.0</td>\n",
       "      <td>11.0</td>\n",
       "      <td>12.0</td>\n",
       "      <td>18.0</td>\n",
       "      <td>13.0</td>\n",
       "      <td>21.0</td>\n",
       "      <td>19.0</td>\n",
       "      <td>8.0</td>\n",
       "      <td>17.0</td>\n",
       "    </tr>\n",
       "  </tbody>\n",
       "</table>\n",
       "<p>5 rows × 24 columns</p>\n",
       "</div>"
      ],
      "text/plain": [
       "     HVB       Date  WB  BZO  Trends  HVB-1  HVB-2  HVB-3  HVB-4  HVB+1  \\\n",
       "140   59 2017-07-01  17   18      17   80.0   39.0   53.0   61.0   44.0   \n",
       "141   44 2017-08-01  24   12       8   59.0   80.0   39.0   53.0   58.0   \n",
       "142   58 2017-09-01  36   11      19   44.0   59.0   80.0   39.0   27.0   \n",
       "143   27 2017-10-01  22   10      21   58.0   44.0   59.0   80.0   23.0   \n",
       "144   23 2017-11-01  23   10      19   27.0   58.0   44.0   59.0   21.0   \n",
       "\n",
       "       ...     WB+1  BZO-1  BZO-2  BZO-3  BZO-4  BZO+1  Trends-1  Trends-2  \\\n",
       "140    ...     24.0   13.0   21.0   12.0    4.0   12.0      19.0      19.0   \n",
       "141    ...     36.0   18.0   13.0   21.0   12.0   11.0      17.0      19.0   \n",
       "142    ...     22.0   12.0   18.0   13.0   21.0   10.0       8.0      17.0   \n",
       "143    ...     23.0   11.0   12.0   18.0   13.0   10.0      19.0       8.0   \n",
       "144    ...     16.0   10.0   11.0   12.0   18.0   13.0      21.0      19.0   \n",
       "\n",
       "     Trends-3  Trends-4  \n",
       "140      23.0      15.0  \n",
       "141      19.0      23.0  \n",
       "142      19.0      19.0  \n",
       "143      17.0      19.0  \n",
       "144       8.0      17.0  \n",
       "\n",
       "[5 rows x 24 columns]"
      ]
     },
     "execution_count": 7,
     "metadata": {},
     "output_type": "execute_result"
    }
   ],
   "source": [
    "data2.tail(n = 5)"
   ]
  },
  {
   "cell_type": "markdown",
   "metadata": {},
   "source": [
    "The Dataframe is ready. <br/>\n",
    "Now we use the features X and target y. Apart from that, we use the train_test_split to separate our models. <br/>\n",
    "We also use the train test split in the X_train and y_train to create a validation set."
   ]
  },
  {
   "cell_type": "markdown",
   "metadata": {},
   "source": [
    "### Multi-Layer Perceptron Architectures\n",
    "\n",
    "#### Using two time lags.\n",
    "\n",
    "We first test our network using two time lags. We will decide later if we should add more features. <br/>\n",
    "Before everything we initialize the numpy seed."
   ]
  },
  {
   "cell_type": "code",
   "execution_count": 8,
   "metadata": {},
   "outputs": [
    {
     "name": "stderr",
     "output_type": "stream",
     "text": [
      "Using TensorFlow backend.\n"
     ]
    }
   ],
   "source": [
    "from sklearn.model_selection import train_test_split\n",
    "from sklearn.metrics import r2_score, mean_absolute_error\n",
    "from keras.optimizers import Adam\n",
    "from keras.losses import mean_squared_error\n"
   ]
  },
  {
   "cell_type": "code",
   "execution_count": 9,
   "metadata": {
    "collapsed": true
   },
   "outputs": [],
   "source": [
    "X = data2[['HVB', 'HVB-1', 'HVB-2', 'HVB-3',  \n",
    "          'WB', 'WB-1', 'WB-2', 'WB-3', \n",
    "          'BZO', 'BZO-1', 'BZO-2', 'BZO-3', \n",
    "          'Trends', 'Trends-1']]\n",
    "\n",
    "y = data2[['HVB+1', 'WB+1', 'BZO+1']]"
   ]
  },
  {
   "cell_type": "code",
   "execution_count": 12,
   "metadata": {
    "collapsed": true
   },
   "outputs": [],
   "source": [
    "X_T, X_test, y_T, y_test = train_test_split(X, y, test_size = 0.33, shuffle = False)\n",
    "X_train, X_val, y_train, y_val = train_test_split(X_T, y_T, test_size = 0.15, shuffle = False)"
   ]
  },
  {
   "cell_type": "code",
   "execution_count": 13,
   "metadata": {
    "collapsed": true
   },
   "outputs": [],
   "source": [
    "import numpy as np\n",
    "from sklearn.gaussian_process import GaussianProcessRegressor\n",
    "from sklearn.gaussian_process.kernels \\\n",
    "    import RBF, WhiteKernel, RationalQuadratic, ExpSineSquared\n",
    "from sklearn.datasets import fetch_mldata"
   ]
  },
  {
   "cell_type": "code",
   "execution_count": null,
   "metadata": {
    "collapsed": true
   },
   "outputs": [],
   "source": []
  },
  {
   "cell_type": "code",
   "execution_count": null,
   "metadata": {
    "collapsed": true
   },
   "outputs": [],
   "source": []
  }
 ],
 "metadata": {
  "kernelspec": {
   "display_name": "Python 3",
   "language": "python",
   "name": "python3"
  },
  "language_info": {
   "codemirror_mode": {
    "name": "ipython",
    "version": 3
   },
   "file_extension": ".py",
   "mimetype": "text/x-python",
   "name": "python",
   "nbconvert_exporter": "python",
   "pygments_lexer": "ipython3",
   "version": "3.6.3"
  }
 },
 "nbformat": 4,
 "nbformat_minor": 2
}
