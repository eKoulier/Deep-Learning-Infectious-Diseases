{
 "cells": [
  {
   "cell_type": "markdown",
   "metadata": {},
   "source": [
    "# Mumps Preprocessing and Statistics\n",
    "\n",
    "In this ipyn we will import the data for the three GGD departments and we will preprocess it. At the end of this Notebook there will be a few descriptive statistics about the disease. The notebook is diveded in three parts: Preprocessing, Statistics, and Saving."
   ]
  },
  {
   "cell_type": "markdown",
   "metadata": {},
   "source": [
    "## Preprocessing the Data\n",
    "\n",
    "First we import the nescessary libraries to preprocess the data and then we will use the `pd.read_csv` method to gain acess to it. A few preprocessing steps (deletion of columns) will take place in the next section."
   ]
  },
  {
   "cell_type": "code",
   "execution_count": 125,
   "metadata": {
    "collapsed": true
   },
   "outputs": [],
   "source": [
    "import pandas as pd\n",
    "import numpy as np \n",
    "import matplotlib.pyplot as plt"
   ]
  },
  {
   "cell_type": "code",
   "execution_count": 126,
   "metadata": {
    "collapsed": true
   },
   "outputs": [],
   "source": [
    "bzo = pd.read_csv('bzo.csv', sep=';')\n",
    "hvb = pd.read_csv('hvb.csv', sep=';')\n",
    "bof = pd.read_csv('bof.csv')"
   ]
  },
  {
   "cell_type": "code",
   "execution_count": 127,
   "metadata": {},
   "outputs": [
    {
     "data": {
      "text/html": [
       "<div>\n",
       "<style>\n",
       "    .dataframe thead tr:only-child th {\n",
       "        text-align: right;\n",
       "    }\n",
       "\n",
       "    .dataframe thead th {\n",
       "        text-align: left;\n",
       "    }\n",
       "\n",
       "    .dataframe tbody tr th {\n",
       "        vertical-align: top;\n",
       "    }\n",
       "</style>\n",
       "<table border=\"1\" class=\"dataframe\">\n",
       "  <thead>\n",
       "    <tr style=\"text-align: right;\">\n",
       "      <th></th>\n",
       "      <th>INFECTIEZIEKTE</th>\n",
       "      <th>Melding ontvangen GGD</th>\n",
       "      <th>Geslacht</th>\n",
       "      <th>Geboortejaar</th>\n",
       "      <th>Postcode patient</th>\n",
       "      <th>Eerste ziektedag</th>\n",
       "    </tr>\n",
       "  </thead>\n",
       "  <tbody>\n",
       "    <tr>\n",
       "      <th>0</th>\n",
       "      <td>Bof</td>\n",
       "      <td>20-11-2009</td>\n",
       "      <td>Man</td>\n",
       "      <td>1983</td>\n",
       "      <td>5625</td>\n",
       "      <td>05-11-2009</td>\n",
       "    </tr>\n",
       "  </tbody>\n",
       "</table>\n",
       "</div>"
      ],
      "text/plain": [
       "  INFECTIEZIEKTE Melding ontvangen GGD Geslacht  Geboortejaar  \\\n",
       "0            Bof            20-11-2009      Man          1983   \n",
       "\n",
       "   Postcode patient Eerste ziektedag  \n",
       "0              5625       05-11-2009  "
      ]
     },
     "execution_count": 127,
     "metadata": {},
     "output_type": "execute_result"
    }
   ],
   "source": [
    "bzo.head(n=1)"
   ]
  },
  {
   "cell_type": "code",
   "execution_count": 128,
   "metadata": {},
   "outputs": [
    {
     "data": {
      "text/html": [
       "<div>\n",
       "<style>\n",
       "    .dataframe thead tr:only-child th {\n",
       "        text-align: right;\n",
       "    }\n",
       "\n",
       "    .dataframe thead th {\n",
       "        text-align: left;\n",
       "    }\n",
       "\n",
       "    .dataframe tbody tr th {\n",
       "        vertical-align: top;\n",
       "    }\n",
       "</style>\n",
       "<table border=\"1\" class=\"dataframe\">\n",
       "  <thead>\n",
       "    <tr style=\"text-align: right;\">\n",
       "      <th></th>\n",
       "      <th>PATGESLACHT</th>\n",
       "      <th>PATGEBOORTEJAAR</th>\n",
       "      <th>POSTCODECIJFERS</th>\n",
       "      <th>ZIE1EZIEKTEDT</th>\n",
       "      <th>MELGGDONTVDT</th>\n",
       "    </tr>\n",
       "  </thead>\n",
       "  <tbody>\n",
       "    <tr>\n",
       "      <th>0</th>\n",
       "      <td>Man</td>\n",
       "      <td>1977</td>\n",
       "      <td>5374</td>\n",
       "      <td>15-06-2009</td>\n",
       "      <td>29-06-2009</td>\n",
       "    </tr>\n",
       "  </tbody>\n",
       "</table>\n",
       "</div>"
      ],
      "text/plain": [
       "  PATGESLACHT  PATGEBOORTEJAAR  POSTCODECIJFERS ZIE1EZIEKTEDT MELGGDONTVDT\n",
       "0         Man             1977             5374    15-06-2009   29-06-2009"
      ]
     },
     "execution_count": 128,
     "metadata": {},
     "output_type": "execute_result"
    }
   ],
   "source": [
    "hvb.head(n=1)"
   ]
  },
  {
   "cell_type": "code",
   "execution_count": 129,
   "metadata": {},
   "outputs": [
    {
     "data": {
      "text/html": [
       "<div>\n",
       "<style>\n",
       "    .dataframe thead tr:only-child th {\n",
       "        text-align: right;\n",
       "    }\n",
       "\n",
       "    .dataframe thead th {\n",
       "        text-align: left;\n",
       "    }\n",
       "\n",
       "    .dataframe tbody tr th {\n",
       "        vertical-align: top;\n",
       "    }\n",
       "</style>\n",
       "<table border=\"1\" class=\"dataframe\">\n",
       "  <thead>\n",
       "    <tr style=\"text-align: right;\">\n",
       "      <th></th>\n",
       "      <th>Month</th>\n",
       "      <th>search</th>\n",
       "    </tr>\n",
       "  </thead>\n",
       "  <tbody>\n",
       "    <tr>\n",
       "      <th>0</th>\n",
       "      <td>2004-01</td>\n",
       "      <td>0</td>\n",
       "    </tr>\n",
       "  </tbody>\n",
       "</table>\n",
       "</div>"
      ],
      "text/plain": [
       "     Month   search\n",
       "0  2004-01        0"
      ]
     },
     "execution_count": 129,
     "metadata": {},
     "output_type": "execute_result"
    }
   ],
   "source": [
    "bof.head(n=1)"
   ]
  },
  {
   "cell_type": "code",
   "execution_count": 130,
   "metadata": {},
   "outputs": [],
   "source": [
    "# We don't need this reduntasnt column. We know that the disease is bof -> mumps.\n",
    "bzo = bzo.drop('INFECTIEZIEKTE', axis=1)\n",
    "\n",
    "# We don't need all the rows from Google Trends since our data starts on JAN 2018\n",
    "bof = bof.drop(bof.index[0:48]).reset_index(drop=True)"
   ]
  },
  {
   "cell_type": "code",
   "execution_count": 131,
   "metadata": {
    "collapsed": true
   },
   "outputs": [],
   "source": [
    "# Change the Column Name\n",
    "bzo.columns = ['Date', 'Sex', 'Year of Birth', 'Postcode', 'Inf_Date']\n",
    "hvb.columns = ['Sex', 'Year of Birth', 'Postcode', 'Inf_Date', 'Date']\n",
    "bof.columns = ['Date', 'Search']"
   ]
  },
  {
   "cell_type": "code",
   "execution_count": 132,
   "metadata": {},
   "outputs": [],
   "source": [
    "bzo['Inf_Date'] = pd.to_datetime(bzo['Inf_Date'], format='%d-%m-%Y')\n",
    "bzo['Date'] = pd.to_datetime(bzo['Date'], format='%d-%m-%Y')\n",
    "bzo['Year of Birth'] = pd.to_datetime(bzo['Year of Birth'], format='%Y')\n",
    "\n",
    "hvb['Inf_Date'] = pd.to_datetime(hvb['Inf_Date'], format='%d-%m-%Y')\n",
    "hvb['Date'] = pd.to_datetime(hvb['Date'], format='%d-%m-%Y')\n",
    "hvb['Year of Birth'] = pd.to_datetime(hvb['Year of Birth'], format='%Y')\n",
    "\n",
    "bof['Date'] = pd.to_datetime(bof['Date'], format='%Y-%m')"
   ]
  },
  {
   "cell_type": "code",
   "execution_count": 133,
   "metadata": {},
   "outputs": [],
   "source": [
    "# Notification Delay\n",
    "bzo['Notification_Delay'] = (bzo['Date'] - bzo['Inf_Date']).astype('timedelta64[D]')\n",
    "hvb['Notification_Delay'] = (hvb['Date'] - hvb['Inf_Date']).astype('timedelta64[D]')"
   ]
  },
  {
   "cell_type": "code",
   "execution_count": 134,
   "metadata": {
    "collapsed": true
   },
   "outputs": [],
   "source": [
    "# Age of the Patient\n",
    "bzo['Patient_Age'] = (bzo['Date'] - bzo['Year of Birth']).astype('timedelta64[Y]')\n",
    "hvb['Patient_Age'] = (hvb['Date'] - hvb['Year of Birth']).astype('timedelta64[Y]')"
   ]
  },
  {
   "cell_type": "code",
   "execution_count": 135,
   "metadata": {},
   "outputs": [
    {
     "data": {
      "text/html": [
       "<div>\n",
       "<style>\n",
       "    .dataframe thead tr:only-child th {\n",
       "        text-align: right;\n",
       "    }\n",
       "\n",
       "    .dataframe thead th {\n",
       "        text-align: left;\n",
       "    }\n",
       "\n",
       "    .dataframe tbody tr th {\n",
       "        vertical-align: top;\n",
       "    }\n",
       "</style>\n",
       "<table border=\"1\" class=\"dataframe\">\n",
       "  <thead>\n",
       "    <tr style=\"text-align: right;\">\n",
       "      <th></th>\n",
       "      <th>Date</th>\n",
       "      <th>Sex</th>\n",
       "      <th>Year of Birth</th>\n",
       "      <th>Postcode</th>\n",
       "      <th>Inf_Date</th>\n",
       "      <th>Notification_Delay</th>\n",
       "      <th>Patient_Age</th>\n",
       "    </tr>\n",
       "  </thead>\n",
       "  <tbody>\n",
       "    <tr>\n",
       "      <th>0</th>\n",
       "      <td>2009-11-20</td>\n",
       "      <td>Man</td>\n",
       "      <td>1983-01-01</td>\n",
       "      <td>5625</td>\n",
       "      <td>2009-11-05</td>\n",
       "      <td>15.0</td>\n",
       "      <td>26.0</td>\n",
       "    </tr>\n",
       "  </tbody>\n",
       "</table>\n",
       "</div>"
      ],
      "text/plain": [
       "        Date  Sex Year of Birth  Postcode   Inf_Date  Notification_Delay  \\\n",
       "0 2009-11-20  Man    1983-01-01      5625 2009-11-05                15.0   \n",
       "\n",
       "   Patient_Age  \n",
       "0         26.0  "
      ]
     },
     "execution_count": 135,
     "metadata": {},
     "output_type": "execute_result"
    }
   ],
   "source": [
    "bzo.head(n=1)"
   ]
  },
  {
   "cell_type": "code",
   "execution_count": 136,
   "metadata": {},
   "outputs": [
    {
     "data": {
      "text/html": [
       "<div>\n",
       "<style>\n",
       "    .dataframe thead tr:only-child th {\n",
       "        text-align: right;\n",
       "    }\n",
       "\n",
       "    .dataframe thead th {\n",
       "        text-align: left;\n",
       "    }\n",
       "\n",
       "    .dataframe tbody tr th {\n",
       "        vertical-align: top;\n",
       "    }\n",
       "</style>\n",
       "<table border=\"1\" class=\"dataframe\">\n",
       "  <thead>\n",
       "    <tr style=\"text-align: right;\">\n",
       "      <th></th>\n",
       "      <th>Sex</th>\n",
       "      <th>Year of Birth</th>\n",
       "      <th>Postcode</th>\n",
       "      <th>Inf_Date</th>\n",
       "      <th>Date</th>\n",
       "      <th>Notification_Delay</th>\n",
       "      <th>Patient_Age</th>\n",
       "    </tr>\n",
       "  </thead>\n",
       "  <tbody>\n",
       "    <tr>\n",
       "      <th>0</th>\n",
       "      <td>Man</td>\n",
       "      <td>1977-01-01</td>\n",
       "      <td>5374</td>\n",
       "      <td>2009-06-15</td>\n",
       "      <td>2009-06-29</td>\n",
       "      <td>14.0</td>\n",
       "      <td>32.0</td>\n",
       "    </tr>\n",
       "  </tbody>\n",
       "</table>\n",
       "</div>"
      ],
      "text/plain": [
       "   Sex Year of Birth  Postcode   Inf_Date       Date  Notification_Delay  \\\n",
       "0  Man    1977-01-01      5374 2009-06-15 2009-06-29                14.0   \n",
       "\n",
       "   Patient_Age  \n",
       "0         32.0  "
      ]
     },
     "execution_count": 136,
     "metadata": {},
     "output_type": "execute_result"
    }
   ],
   "source": [
    "hvb.head(n=1)"
   ]
  },
  {
   "cell_type": "markdown",
   "metadata": {},
   "source": [
    "Now our three dataframes have the same format."
   ]
  },
  {
   "cell_type": "markdown",
   "metadata": {},
   "source": [
    "## Statistics\n",
    "\n",
    "In this part, we will explore a few statistics about this disease. The statistics include sex and age distribution.\n",
    "\n",
    "### Sex"
   ]
  },
  {
   "cell_type": "code",
   "execution_count": 137,
   "metadata": {
    "collapsed": true
   },
   "outputs": [],
   "source": [
    "# BZO\n",
    "bzo_man = len(bzo[bzo['Sex'] == 'Man']) / len(bzo) * 100\n",
    "bzo_vrouw = len(bzo[bzo['Sex'] == 'Vrouw']) / len(bzo) * 100\n",
    "\n",
    "# HvB\n",
    "hvb_man = len(hvb[hvb['Sex'] == 'Man']) / len(hvb) * 100\n",
    "hvb_vrouw = len(hvb[hvb['Sex'] == 'Vrouw']) / len(hvb) * 100"
   ]
  },
  {
   "cell_type": "code",
   "execution_count": 138,
   "metadata": {},
   "outputs": [
    {
     "data": {
      "image/png": "[encoded data removed]",
      "text/plain": [
       "<matplotlib.figure.Figure at 0x206c39864a8>"
      ]
     },
     "metadata": {},
     "output_type": "display_data"
    }
   ],
   "source": [
    "# Plot Barchart\n",
    "\n",
    "n_groups = 2\n",
    "\n",
    "perc_men = (bzo_man, hvb_man)\n",
    "perc_women = (bzo_vrouw , hvb_vrouw)\n",
    "\n",
    "fig, ax = plt.subplots()\n",
    "\n",
    "index = np.arange(n_groups)\n",
    "bar_width = 0.35\n",
    "\n",
    "opacity = 0.8\n",
    "error_config = {'ecolor': '0.3'}\n",
    "\n",
    "rects1 = plt.bar(index, perc_men, bar_width,\n",
    "                 alpha=opacity,\n",
    "                 #color='b',\n",
    "                 label='Men')\n",
    "\n",
    "rects2 = plt.bar(index + bar_width, perc_women, bar_width,\n",
    "                 alpha=opacity,\n",
    "                 #color='r',\n",
    "                 label='Women')\n",
    "\n",
    "plt.xlabel('Region')\n",
    "plt.ylabel('Percentage')\n",
    "plt.title('Sex Ratios')\n",
    "plt.xticks(index + bar_width / 2, ('BZO', 'HvB'))\n",
    "plt.legend()\n",
    "\n",
    "plt.tight_layout()\n",
    "plt.show()"
   ]
  },
  {
   "cell_type": "markdown",
   "metadata": {},
   "source": [
    "### Age distribution\n",
    "\n",
    "Here we want to explore the age distribution of our patients."
   ]
  },
  {
   "cell_type": "code",
   "execution_count": 139,
   "metadata": {
    "collapsed": true
   },
   "outputs": [],
   "source": [
    "alldf = bzo.append(hvb)"
   ]
  },
  {
   "cell_type": "code",
   "execution_count": 140,
   "metadata": {
    "collapsed": true
   },
   "outputs": [],
   "source": [
    "def age_percentage(low_barier, upper_barier):\n",
    "    '''\n",
    "    It returns the relative percentage of the Age Distribution, including the\n",
    "    low barier excluding the upper barier.\n",
    "    '''\n",
    "    \n",
    "    rel_percentage = len(alldf[(alldf['Patient_Age'] > low_barier) & (alldf['Patient_Age'] <= upper_barier)]) / len(alldf)    \n",
    "    return rel_percentage * 100"
   ]
  },
  {
   "cell_type": "code",
   "execution_count": 141,
   "metadata": {
    "collapsed": true
   },
   "outputs": [],
   "source": [
    "age010 = len(alldf[alldf['Patient_Age'] <= 10]) / len(alldf) * 100\n",
    "age1015 = age_percentage(10, 15)\n",
    "age1520 = age_percentage(15, 20)\n",
    "age2025 = age_percentage(20, 25)\n",
    "age2530 = age_percentage(25, 30)\n",
    "age3040 = age_percentage(30, 40)\n",
    "age4050 = age_percentage(40, 50)\n",
    "age5060 = age_percentage(50, 60)\n",
    "age6070 = age_percentage(60, 70)\n",
    "age7080 = age_percentage(70, 80)"
   ]
  },
  {
   "cell_type": "code",
   "execution_count": 142,
   "metadata": {
    "collapsed": true
   },
   "outputs": [],
   "source": [
    "ages = [age010, age1015, age1520, age2025, age2530, age3040, age4050, age5060, age6070, age7080]"
   ]
  },
  {
   "cell_type": "code",
   "execution_count": 143,
   "metadata": {},
   "outputs": [
    {
     "data": {
      "image/png": "[encoded data removed]",
      "text/plain": [
       "<matplotlib.figure.Figure at 0x206c39574e0>"
      ]
     },
     "metadata": {},
     "output_type": "display_data"
    }
   ],
   "source": [
    "# Plot Barchart\n",
    "\n",
    "n_groups = 10\n",
    "\n",
    "fig, ax = plt.subplots()\n",
    "\n",
    "index = np.arange(n_groups)\n",
    "bar_width = 0.55\n",
    "\n",
    "opacity = 0.9\n",
    "error_config = {'ecolor': '0.3'}\n",
    "\n",
    "rects1 = plt.bar(index, ages, bar_width,\n",
    "                 alpha=opacity,\n",
    "                 #color='b',\n",
    "                 label='Age')\n",
    "\n",
    "plt.xlabel('Age Group')\n",
    "plt.ylabel('Percentage')\n",
    "plt.title('Age Distribution')\n",
    "plt.xticks(index + bar_width / 2 - 0.27, ('0-10', '10-15', '15-20', '20-25',\n",
    "                                          '25-30', '30-40', '40-50', '50-60',\n",
    "                                         '60-70', '70-80'))\n",
    "\n",
    "plt.tight_layout()\n",
    "plt.show()"
   ]
  },
  {
   "cell_type": "markdown",
   "metadata": {},
   "source": [
    "## Create a New Dataset of Monthly Aggregated Incidences"
   ]
  },
  {
   "cell_type": "code",
   "execution_count": 199,
   "metadata": {
    "collapsed": true
   },
   "outputs": [],
   "source": [
    "bzo_count = bzo.set_index('Date').resample('MS').size()\n",
    "hvb_count = hvb.set_index('Date').resample('MS').size()"
   ]
  },
  {
   "cell_type": "code",
   "execution_count": 224,
   "metadata": {
    "collapsed": true
   },
   "outputs": [],
   "source": [
    "count_df = pd.DataFrame({'HVB': hvb_count})\n",
    "count_df['BZO'] = bzo_count\n",
    "count_df = count_df.fillna(0)"
   ]
  },
  {
   "cell_type": "code",
   "execution_count": 225,
   "metadata": {},
   "outputs": [
    {
     "data": {
      "text/html": [
       "<div>\n",
       "<style>\n",
       "    .dataframe thead tr:only-child th {\n",
       "        text-align: right;\n",
       "    }\n",
       "\n",
       "    .dataframe thead th {\n",
       "        text-align: left;\n",
       "    }\n",
       "\n",
       "    .dataframe tbody tr th {\n",
       "        vertical-align: top;\n",
       "    }\n",
       "</style>\n",
       "<table border=\"1\" class=\"dataframe\">\n",
       "  <thead>\n",
       "    <tr style=\"text-align: right;\">\n",
       "      <th></th>\n",
       "      <th>HVB</th>\n",
       "      <th>BZO</th>\n",
       "    </tr>\n",
       "    <tr>\n",
       "      <th>Date</th>\n",
       "      <th></th>\n",
       "      <th></th>\n",
       "    </tr>\n",
       "  </thead>\n",
       "  <tbody>\n",
       "    <tr>\n",
       "      <th>2009-06-01</th>\n",
       "      <td>1</td>\n",
       "      <td>0.0</td>\n",
       "    </tr>\n",
       "    <tr>\n",
       "      <th>2009-07-01</th>\n",
       "      <td>0</td>\n",
       "      <td>0.0</td>\n",
       "    </tr>\n",
       "  </tbody>\n",
       "</table>\n",
       "</div>"
      ],
      "text/plain": [
       "            HVB  BZO\n",
       "Date                \n",
       "2009-06-01    1  0.0\n",
       "2009-07-01    0  0.0"
      ]
     },
     "execution_count": 225,
     "metadata": {},
     "output_type": "execute_result"
    }
   ],
   "source": [
    "count_df.head(n=2)"
   ]
  },
  {
   "cell_type": "code",
   "execution_count": 226,
   "metadata": {},
   "outputs": [],
   "source": [
    "count_bof = bof.copy()\n",
    "\n",
    "count_df['Date'] = count_df.index\n",
    "\n",
    "# Make the date into the %Y-%m format\n",
    "count_df['Date'] = pd.to_datetime(count_df['Date'])#.dt.to_period('M')\n",
    "count_bof['Date'] = pd.to_datetime(count_bof['Date'])#.dt.to_period('M')\n",
    "\n",
    "count_df  = count_df.reset_index(drop=True)"
   ]
  },
  {
   "cell_type": "code",
   "execution_count": 227,
   "metadata": {},
   "outputs": [
    {
     "data": {
      "text/html": [
       "<div>\n",
       "<style>\n",
       "    .dataframe thead tr:only-child th {\n",
       "        text-align: right;\n",
       "    }\n",
       "\n",
       "    .dataframe thead th {\n",
       "        text-align: left;\n",
       "    }\n",
       "\n",
       "    .dataframe tbody tr th {\n",
       "        vertical-align: top;\n",
       "    }\n",
       "</style>\n",
       "<table border=\"1\" class=\"dataframe\">\n",
       "  <thead>\n",
       "    <tr style=\"text-align: right;\">\n",
       "      <th></th>\n",
       "      <th>HVB</th>\n",
       "      <th>BZO</th>\n",
       "      <th>Date</th>\n",
       "    </tr>\n",
       "  </thead>\n",
       "  <tbody>\n",
       "    <tr>\n",
       "      <th>0</th>\n",
       "      <td>1</td>\n",
       "      <td>0.0</td>\n",
       "      <td>2009-06-01</td>\n",
       "    </tr>\n",
       "  </tbody>\n",
       "</table>\n",
       "</div>"
      ],
      "text/plain": [
       "   HVB  BZO       Date\n",
       "0    1  0.0 2009-06-01"
      ]
     },
     "execution_count": 227,
     "metadata": {},
     "output_type": "execute_result"
    }
   ],
   "source": [
    "count_df.head(n=1)"
   ]
  },
  {
   "cell_type": "code",
   "execution_count": 228,
   "metadata": {},
   "outputs": [
    {
     "data": {
      "text/html": [
       "<div>\n",
       "<style>\n",
       "    .dataframe thead tr:only-child th {\n",
       "        text-align: right;\n",
       "    }\n",
       "\n",
       "    .dataframe thead th {\n",
       "        text-align: left;\n",
       "    }\n",
       "\n",
       "    .dataframe tbody tr th {\n",
       "        vertical-align: top;\n",
       "    }\n",
       "</style>\n",
       "<table border=\"1\" class=\"dataframe\">\n",
       "  <thead>\n",
       "    <tr style=\"text-align: right;\">\n",
       "      <th></th>\n",
       "      <th>Date</th>\n",
       "      <th>Search</th>\n",
       "    </tr>\n",
       "  </thead>\n",
       "  <tbody>\n",
       "    <tr>\n",
       "      <th>0</th>\n",
       "      <td>2008-01-01</td>\n",
       "      <td>30</td>\n",
       "    </tr>\n",
       "  </tbody>\n",
       "</table>\n",
       "</div>"
      ],
      "text/plain": [
       "        Date  Search\n",
       "0 2008-01-01      30"
      ]
     },
     "execution_count": 228,
     "metadata": {},
     "output_type": "execute_result"
    }
   ],
   "source": [
    "count_bof.head(n=1)"
   ]
  },
  {
   "cell_type": "code",
   "execution_count": 229,
   "metadata": {},
   "outputs": [],
   "source": [
    "counts = pd.merge(count_bof, count_df, how='outer', on='Date')\n",
    "counts['Date'] = pd.to_datetime(counts['Date'])\n",
    "\n",
    "# Fill the NaNs\n",
    "counts = counts.fillna(0)"
   ]
  },
  {
   "cell_type": "code",
   "execution_count": 230,
   "metadata": {},
   "outputs": [
    {
     "data": {
      "text/html": [
       "<div>\n",
       "<style>\n",
       "    .dataframe thead tr:only-child th {\n",
       "        text-align: right;\n",
       "    }\n",
       "\n",
       "    .dataframe thead th {\n",
       "        text-align: left;\n",
       "    }\n",
       "\n",
       "    .dataframe tbody tr th {\n",
       "        vertical-align: top;\n",
       "    }\n",
       "</style>\n",
       "<table border=\"1\" class=\"dataframe\">\n",
       "  <thead>\n",
       "    <tr style=\"text-align: right;\">\n",
       "      <th></th>\n",
       "      <th>Date</th>\n",
       "      <th>Search</th>\n",
       "      <th>HVB</th>\n",
       "      <th>BZO</th>\n",
       "    </tr>\n",
       "  </thead>\n",
       "  <tbody>\n",
       "    <tr>\n",
       "      <th>0</th>\n",
       "      <td>2008-01-01</td>\n",
       "      <td>30</td>\n",
       "      <td>0.0</td>\n",
       "      <td>0.0</td>\n",
       "    </tr>\n",
       "  </tbody>\n",
       "</table>\n",
       "</div>"
      ],
      "text/plain": [
       "        Date  Search  HVB  BZO\n",
       "0 2008-01-01      30  0.0  0.0"
      ]
     },
     "execution_count": 230,
     "metadata": {},
     "output_type": "execute_result"
    }
   ],
   "source": [
    "counts.head(n=1)"
   ]
  },
  {
   "cell_type": "markdown",
   "metadata": {},
   "source": [
    "### Plotting the  time series\n",
    "Now we will plot the time series to explore whether ther was an outbreak."
   ]
  },
  {
   "cell_type": "code",
   "execution_count": 238,
   "metadata": {},
   "outputs": [
    {
     "data": {
      "image/png": "[encoded data removed]",
      "text/plain": [
       "<matplotlib.figure.Figure at 0x206c5970f28>"
      ]
     },
     "metadata": {},
     "output_type": "display_data"
    },
    {
     "data": {
      "image/png": "[encoded data removed]",
      "text/plain": [
       "<matplotlib.figure.Figure at 0x206c59b8668>"
      ]
     },
     "metadata": {},
     "output_type": "display_data"
    },
    {
     "data": {
      "image/png": "[encoded data removed]",
      "text/plain": [
       "<matplotlib.figure.Figure at 0x206c5970a90>"
      ]
     },
     "metadata": {},
     "output_type": "display_data"
    }
   ],
   "source": [
    "for column in  ['HVB', 'BZO']:\n",
    "    plt.plot(counts['Date'], counts[column])\n",
    "    plt.xlabel('Year')\n",
    "    plt.ylabel('Incidences')\n",
    "    plt.title('Incidences in '+column)\n",
    "    plt.show()\n",
    "    \n",
    "plt.plot(counts['Date'], counts['Search'])\n",
    "plt.xlabel('Year')\n",
    "plt.ylabel('Search Activity')\n",
    "plt.title('Google Trends')\n",
    "plt.show()"
   ]
  }
 ],
 "metadata": {
  "kernelspec": {
   "display_name": "Python 3",
   "language": "python",
   "name": "python3"
  },
  "language_info": {
   "codemirror_mode": {
    "name": "ipython",
    "version": 3
   },
   "file_extension": ".py",
   "mimetype": "text/x-python",
   "name": "python",
   "nbconvert_exporter": "python",
   "pygments_lexer": "ipython3",
   "version": "3.6.3"
  }
 },
 "nbformat": 4,
 "nbformat_minor": 2
}
